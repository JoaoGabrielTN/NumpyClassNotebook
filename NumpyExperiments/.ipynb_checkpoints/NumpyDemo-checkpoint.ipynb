{
 "cells": [
  {
   "cell_type": "markdown",
   "id": "23e9fce7",
   "metadata": {},
   "source": [
    "<h1>A jupyter notebook for experiments on numpy<h1>"
   ]
  },
  {
   "cell_type": "markdown",
   "id": "324d33cc",
   "metadata": {},
   "source": [
    "<h2> Numpy, why? <h2> "
   ]
  },
  {
   "cell_type": "code",
   "execution_count": 11,
   "id": "b8032c0d",
   "metadata": {},
   "outputs": [
    {
     "ename": "SyntaxError",
     "evalue": "invalid syntax (2776432974.py, line 1)",
     "output_type": "error",
     "traceback": [
      "\u001b[1;36m  File \u001b[1;32m\"C:\\Users\\João Gabriel Torres\\AppData\\Local\\Temp\\ipykernel_114632\\2776432974.py\"\u001b[1;36m, line \u001b[1;32m1\u001b[0m\n\u001b[1;33m    <blockquote> Everybody knows that the numpy (numerical python) library is the best tool to use when it comesto  array oriented programation, as it is faster than pure python code. But is this really true? Let's check it out <blockquote>\u001b[0m\n\u001b[1;37m    ^\u001b[0m\n\u001b[1;31mSyntaxError\u001b[0m\u001b[1;31m:\u001b[0m invalid syntax\n"
     ]
    }
   ],
   "source": [
    "<blockquote> Everybody knows that the numpy (numerical python) library is the best tool to use when it comesto  array oriented programation, as it is faster than pure python code. But is this really true? Let's check it out <blockquote>  "
   ]
  },
  {
   "cell_type": "code",
   "execution_count": 2,
   "id": "52cd6c4d",
   "metadata": {},
   "outputs": [],
   "source": [
    "import numpy as np"
   ]
  },
  {
   "cell_type": "code",
   "execution_count": 3,
   "id": "63fef502",
   "metadata": {},
   "outputs": [],
   "source": [
    "my_arr = np.arange(1_000_000)\n",
    "my_list = [x for x in range(1_000_000)]"
   ]
  },
  {
   "cell_type": "code",
   "execution_count": 4,
   "id": "18f72901",
   "metadata": {},
   "outputs": [
    {
     "name": "stdout",
     "output_type": "stream",
     "text": [
      "6.25 ms ± 1.27 ms per loop (mean ± std. dev. of 7 runs, 100 loops each)\n"
     ]
    }
   ],
   "source": [
    "%timeit my_arr2 = my_arr * 2"
   ]
  },
  {
   "cell_type": "code",
   "execution_count": 5,
   "id": "338b46a6",
   "metadata": {},
   "outputs": [
    {
     "name": "stdout",
     "output_type": "stream",
     "text": [
      "299 ms ± 27.6 ms per loop (mean ± std. dev. of 7 runs, 1 loop each)\n"
     ]
    }
   ],
   "source": [
    "%timeit my_list2 = [x * 2 for x in my_list]"
   ]
  },
  {
   "cell_type": "markdown",
   "id": "a8b00a0c",
   "metadata": {},
   "source": [
    "<blockquote> As we can see above, a simple task like array multiplication by a escalar is 60 times faster when using Numpy, \n",
    "more so, it seems to be easier to create and manipulate arrays on Numpy. <blockquote>    "
   ]
  },
  {
   "cell_type": "code",
   "execution_count": 10,
   "id": "33642616",
   "metadata": {},
   "outputs": [
    {
     "data": {
      "text/plain": [
       "array([[0., 0., 0., 0., 0., 0.],\n",
       "       [0., 0., 0., 0., 0., 0.],\n",
       "       [0., 0., 0., 0., 0., 0.]])"
      ]
     },
     "execution_count": 10,
     "metadata": {},
     "output_type": "execute_result"
    }
   ],
   "source": [
    "zeros = np.zeros((3,6))\n",
    "zeros"
   ]
  },
  {
   "cell_type": "code",
   "execution_count": null,
   "id": "c5b218df",
   "metadata": {},
   "outputs": [],
   "source": []
  }
 ],
 "metadata": {
  "kernelspec": {
   "display_name": "Python 3 (ipykernel)",
   "language": "python",
   "name": "python3"
  },
  "language_info": {
   "codemirror_mode": {
    "name": "ipython",
    "version": 3
   },
   "file_extension": ".py",
   "mimetype": "text/x-python",
   "name": "python",
   "nbconvert_exporter": "python",
   "pygments_lexer": "ipython3",
   "version": "3.9.13"
  }
 },
 "nbformat": 4,
 "nbformat_minor": 5
}
